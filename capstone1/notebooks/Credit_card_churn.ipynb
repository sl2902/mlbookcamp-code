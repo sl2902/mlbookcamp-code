{
 "cells": [
  {
   "cell_type": "markdown",
   "id": "4f8f2545",
   "metadata": {},
   "source": [
    "### Credit Card Churn Prediction\n",
    "\n",
    "As a Bank manager, you would like to create a model that could predict whether a credit card user will churn or not based on the below attributes\n",
    "\n",
    "\n",
    "Attributes\n",
    "    - CLIENTNUM\t-- Client number. Unique identifier for the customer holding the account<br/>\n",
    "    - Attrition_Flag -- Internal event (customer activity) variable - if the account is closed then 1 else 0<br/>\n",
    "    - Customer_Age\t-- Demographic variable - Customer's Age in Years<br/>\n",
    "    - Gender -- Demographic variable - M=Male, F=Female<br/>\n",
    "    - Dependent_count\t-- Demographic variable - Number of dependents<br/>\n",
    "    - Education_Level\t-- Demographic variable - Educational Qualification of the account holder (example: high school, college graduate, etc.)<br/>\n",
    "    - Marital_Status\t-- Demographic variable - Married, Single, Divorced, Unknown<br/>\n",
    "    - Income_Category\t-- Demographic variable - Annual Income Category of the account holder (< $40K, $40K - 60K, $60K - $80K, $80K-$120K, ><br/>\n",
    "    - Card_Category\t-- Product Variable - Type of Card (Blue, Silver, Gold, Platinum)<br/>\n",
    "    - Monthsonbook\t-- Period of relationship with bank<br/>\n",
    "    - TotalRelationshipcount\t-- Total no. of products held by the customer<br/>\n",
    "    - MonthsInactive12_mon\t-- No. of months inactive in the last 12 months<br/>\n",
    "    - ContactsCount12_mon\t-- No. of Contacts in the last 12 months<br/>\n",
    "    - Credit_Limit\t-- Credit Limit on the Credit Card<br/>\n",
    "    - TotalRevolvingBal\t-- Total Revolving Balance on the Credit Card<br/>\n",
    "    - AvgOpenTo_Buy\t-- Open to Buy Credit Line (Average of last 12 months)<br/>\n",
    "    - TotalAmtChngQ4Q1\t-- Change in Transaction Amount (Q4 over Q1)<br/>\n",
    "    - TotalTransAmt\t-- Total Transaction Amount (Last 12 months)<br/>\n",
    "    - TotalTransCt\t-- Total Transaction Count (Last 12 months)<br/>\n",
    "    - TotalCtChngQ4Q1\t-- -- Change in Transaction Count (Q4 over Q1)<br/>\n",
    "    - AvgUtilizationRatio\tAverage Card Utilization Ratio<br/>\n",
    "\n",
    "\n",
    "Source:\n",
    "[Kaggle](https://www.kaggle.com/datasets/whenamancodes/credit-card-customers-prediction?resource=download)"
   ]
  },
  {
   "cell_type": "code",
   "execution_count": 1,
   "id": "8e552ca9",
   "metadata": {},
   "outputs": [],
   "source": [
    "import pandas as pd\n",
    "import numpy as np\n",
    "import os, sys\n",
    "import matplotlib.pyplot as plt\n",
    "from sklearn.model_selection import train_test_split, GridSearchCV\n",
    "from sklearn.linear_model import LogisticRegression\n",
    "from sklearn.metrics import roc_auc_score, mutual_info_score, make_scorer\n",
    "from sklearn.preprocessing import OrdinalEncoder, StandardScaler\n",
    "from sklearn.feature_extraction import DictVectorizer\n",
    "from sklearn.ensemble import RandomForestClassifier\n",
    "from xgboost import XGBClassifier\n",
    "import time\n",
    "pd.set_option(\"display.MAX_COLUMNS\", None)"
   ]
  },
  {
   "cell_type": "code",
   "execution_count": 2,
   "id": "74a5476b",
   "metadata": {},
   "outputs": [],
   "source": [
    "file_path = r'../../data/BankChurners.csv'"
   ]
  },
  {
   "cell_type": "code",
   "execution_count": 3,
   "id": "35406869",
   "metadata": {},
   "outputs": [],
   "source": [
    "# read the input file\n",
    "df = pd.read_csv(file_path, sep=\",\", encoding=\"latin1\")"
   ]
  },
  {
   "cell_type": "code",
   "execution_count": 4,
   "id": "b15a738c",
   "metadata": {},
   "outputs": [
    {
     "data": {
      "text/plain": [
       "(10127, 23)"
      ]
     },
     "execution_count": 4,
     "metadata": {},
     "output_type": "execute_result"
    }
   ],
   "source": [
    "# number of records\n",
    "df.shape"
   ]
  },
  {
   "cell_type": "code",
   "execution_count": 5,
   "id": "9beb22a0",
   "metadata": {},
   "outputs": [
    {
     "data": {
      "text/html": [
       "<div>\n",
       "<style scoped>\n",
       "    .dataframe tbody tr th:only-of-type {\n",
       "        vertical-align: middle;\n",
       "    }\n",
       "\n",
       "    .dataframe tbody tr th {\n",
       "        vertical-align: top;\n",
       "    }\n",
       "\n",
       "    .dataframe thead th {\n",
       "        text-align: right;\n",
       "    }\n",
       "</style>\n",
       "<table border=\"1\" class=\"dataframe\">\n",
       "  <thead>\n",
       "    <tr style=\"text-align: right;\">\n",
       "      <th></th>\n",
       "      <th>CLIENTNUM</th>\n",
       "      <th>Attrition_Flag</th>\n",
       "      <th>Customer_Age</th>\n",
       "      <th>Gender</th>\n",
       "      <th>Dependent_count</th>\n",
       "      <th>Education_Level</th>\n",
       "      <th>Marital_Status</th>\n",
       "      <th>Income_Category</th>\n",
       "      <th>Card_Category</th>\n",
       "      <th>Months_on_book</th>\n",
       "      <th>Total_Relationship_Count</th>\n",
       "      <th>Months_Inactive_12_mon</th>\n",
       "      <th>Contacts_Count_12_mon</th>\n",
       "      <th>Credit_Limit</th>\n",
       "      <th>Total_Revolving_Bal</th>\n",
       "      <th>Avg_Open_To_Buy</th>\n",
       "      <th>Total_Amt_Chng_Q4_Q1</th>\n",
       "      <th>Total_Trans_Amt</th>\n",
       "      <th>Total_Trans_Ct</th>\n",
       "      <th>Total_Ct_Chng_Q4_Q1</th>\n",
       "      <th>Avg_Utilization_Ratio</th>\n",
       "      <th>Naive_Bayes_Classifier_Attrition_Flag_Card_Category_Contacts_Count_12_mon_Dependent_count_Education_Level_Months_Inactive_12_mon_1</th>\n",
       "      <th>Naive_Bayes_Classifier_Attrition_Flag_Card_Category_Contacts_Count_12_mon_Dependent_count_Education_Level_Months_Inactive_12_mon_2</th>\n",
       "    </tr>\n",
       "  </thead>\n",
       "  <tbody>\n",
       "    <tr>\n",
       "      <th>0</th>\n",
       "      <td>768805383</td>\n",
       "      <td>Existing Customer</td>\n",
       "      <td>45</td>\n",
       "      <td>M</td>\n",
       "      <td>3</td>\n",
       "      <td>High School</td>\n",
       "      <td>Married</td>\n",
       "      <td>$60K - $80K</td>\n",
       "      <td>Blue</td>\n",
       "      <td>39</td>\n",
       "      <td>5</td>\n",
       "      <td>1</td>\n",
       "      <td>3</td>\n",
       "      <td>12691.0</td>\n",
       "      <td>777</td>\n",
       "      <td>11914.0</td>\n",
       "      <td>1.335</td>\n",
       "      <td>1144</td>\n",
       "      <td>42</td>\n",
       "      <td>1.625</td>\n",
       "      <td>0.061</td>\n",
       "      <td>0.000093</td>\n",
       "      <td>0.99991</td>\n",
       "    </tr>\n",
       "    <tr>\n",
       "      <th>1</th>\n",
       "      <td>818770008</td>\n",
       "      <td>Existing Customer</td>\n",
       "      <td>49</td>\n",
       "      <td>F</td>\n",
       "      <td>5</td>\n",
       "      <td>Graduate</td>\n",
       "      <td>Single</td>\n",
       "      <td>Less than $40K</td>\n",
       "      <td>Blue</td>\n",
       "      <td>44</td>\n",
       "      <td>6</td>\n",
       "      <td>1</td>\n",
       "      <td>2</td>\n",
       "      <td>8256.0</td>\n",
       "      <td>864</td>\n",
       "      <td>7392.0</td>\n",
       "      <td>1.541</td>\n",
       "      <td>1291</td>\n",
       "      <td>33</td>\n",
       "      <td>3.714</td>\n",
       "      <td>0.105</td>\n",
       "      <td>0.000057</td>\n",
       "      <td>0.99994</td>\n",
       "    </tr>\n",
       "    <tr>\n",
       "      <th>2</th>\n",
       "      <td>713982108</td>\n",
       "      <td>Existing Customer</td>\n",
       "      <td>51</td>\n",
       "      <td>M</td>\n",
       "      <td>3</td>\n",
       "      <td>Graduate</td>\n",
       "      <td>Married</td>\n",
       "      <td>$80K - $120K</td>\n",
       "      <td>Blue</td>\n",
       "      <td>36</td>\n",
       "      <td>4</td>\n",
       "      <td>1</td>\n",
       "      <td>0</td>\n",
       "      <td>3418.0</td>\n",
       "      <td>0</td>\n",
       "      <td>3418.0</td>\n",
       "      <td>2.594</td>\n",
       "      <td>1887</td>\n",
       "      <td>20</td>\n",
       "      <td>2.333</td>\n",
       "      <td>0.000</td>\n",
       "      <td>0.000021</td>\n",
       "      <td>0.99998</td>\n",
       "    </tr>\n",
       "    <tr>\n",
       "      <th>3</th>\n",
       "      <td>769911858</td>\n",
       "      <td>Existing Customer</td>\n",
       "      <td>40</td>\n",
       "      <td>F</td>\n",
       "      <td>4</td>\n",
       "      <td>High School</td>\n",
       "      <td>Unknown</td>\n",
       "      <td>Less than $40K</td>\n",
       "      <td>Blue</td>\n",
       "      <td>34</td>\n",
       "      <td>3</td>\n",
       "      <td>4</td>\n",
       "      <td>1</td>\n",
       "      <td>3313.0</td>\n",
       "      <td>2517</td>\n",
       "      <td>796.0</td>\n",
       "      <td>1.405</td>\n",
       "      <td>1171</td>\n",
       "      <td>20</td>\n",
       "      <td>2.333</td>\n",
       "      <td>0.760</td>\n",
       "      <td>0.000134</td>\n",
       "      <td>0.99987</td>\n",
       "    </tr>\n",
       "    <tr>\n",
       "      <th>4</th>\n",
       "      <td>709106358</td>\n",
       "      <td>Existing Customer</td>\n",
       "      <td>40</td>\n",
       "      <td>M</td>\n",
       "      <td>3</td>\n",
       "      <td>Uneducated</td>\n",
       "      <td>Married</td>\n",
       "      <td>$60K - $80K</td>\n",
       "      <td>Blue</td>\n",
       "      <td>21</td>\n",
       "      <td>5</td>\n",
       "      <td>1</td>\n",
       "      <td>0</td>\n",
       "      <td>4716.0</td>\n",
       "      <td>0</td>\n",
       "      <td>4716.0</td>\n",
       "      <td>2.175</td>\n",
       "      <td>816</td>\n",
       "      <td>28</td>\n",
       "      <td>2.500</td>\n",
       "      <td>0.000</td>\n",
       "      <td>0.000022</td>\n",
       "      <td>0.99998</td>\n",
       "    </tr>\n",
       "  </tbody>\n",
       "</table>\n",
       "</div>"
      ],
      "text/plain": [
       "   CLIENTNUM     Attrition_Flag  Customer_Age Gender  Dependent_count  \\\n",
       "0  768805383  Existing Customer            45      M                3   \n",
       "1  818770008  Existing Customer            49      F                5   \n",
       "2  713982108  Existing Customer            51      M                3   \n",
       "3  769911858  Existing Customer            40      F                4   \n",
       "4  709106358  Existing Customer            40      M                3   \n",
       "\n",
       "  Education_Level Marital_Status Income_Category Card_Category  \\\n",
       "0     High School        Married     $60K - $80K          Blue   \n",
       "1        Graduate         Single  Less than $40K          Blue   \n",
       "2        Graduate        Married    $80K - $120K          Blue   \n",
       "3     High School        Unknown  Less than $40K          Blue   \n",
       "4      Uneducated        Married     $60K - $80K          Blue   \n",
       "\n",
       "   Months_on_book  Total_Relationship_Count  Months_Inactive_12_mon  \\\n",
       "0              39                         5                       1   \n",
       "1              44                         6                       1   \n",
       "2              36                         4                       1   \n",
       "3              34                         3                       4   \n",
       "4              21                         5                       1   \n",
       "\n",
       "   Contacts_Count_12_mon  Credit_Limit  Total_Revolving_Bal  Avg_Open_To_Buy  \\\n",
       "0                      3       12691.0                  777          11914.0   \n",
       "1                      2        8256.0                  864           7392.0   \n",
       "2                      0        3418.0                    0           3418.0   \n",
       "3                      1        3313.0                 2517            796.0   \n",
       "4                      0        4716.0                    0           4716.0   \n",
       "\n",
       "   Total_Amt_Chng_Q4_Q1  Total_Trans_Amt  Total_Trans_Ct  Total_Ct_Chng_Q4_Q1  \\\n",
       "0                 1.335             1144              42                1.625   \n",
       "1                 1.541             1291              33                3.714   \n",
       "2                 2.594             1887              20                2.333   \n",
       "3                 1.405             1171              20                2.333   \n",
       "4                 2.175              816              28                2.500   \n",
       "\n",
       "   Avg_Utilization_Ratio  \\\n",
       "0                  0.061   \n",
       "1                  0.105   \n",
       "2                  0.000   \n",
       "3                  0.760   \n",
       "4                  0.000   \n",
       "\n",
       "   Naive_Bayes_Classifier_Attrition_Flag_Card_Category_Contacts_Count_12_mon_Dependent_count_Education_Level_Months_Inactive_12_mon_1  \\\n",
       "0                                           0.000093                                                                                    \n",
       "1                                           0.000057                                                                                    \n",
       "2                                           0.000021                                                                                    \n",
       "3                                           0.000134                                                                                    \n",
       "4                                           0.000022                                                                                    \n",
       "\n",
       "   Naive_Bayes_Classifier_Attrition_Flag_Card_Category_Contacts_Count_12_mon_Dependent_count_Education_Level_Months_Inactive_12_mon_2  \n",
       "0                                            0.99991                                                                                   \n",
       "1                                            0.99994                                                                                   \n",
       "2                                            0.99998                                                                                   \n",
       "3                                            0.99987                                                                                   \n",
       "4                                            0.99998                                                                                   "
      ]
     },
     "execution_count": 5,
     "metadata": {},
     "output_type": "execute_result"
    }
   ],
   "source": [
    "# top 5 records\n",
    "df.head()"
   ]
  },
  {
   "cell_type": "code",
   "execution_count": 6,
   "id": "b8e29b55",
   "metadata": {},
   "outputs": [
    {
     "data": {
      "text/plain": [
       "CLIENTNUM                                                                                                                             0.0\n",
       "Attrition_Flag                                                                                                                        0.0\n",
       "Customer_Age                                                                                                                          0.0\n",
       "Gender                                                                                                                                0.0\n",
       "Dependent_count                                                                                                                       0.0\n",
       "Education_Level                                                                                                                       0.0\n",
       "Marital_Status                                                                                                                        0.0\n",
       "Income_Category                                                                                                                       0.0\n",
       "Card_Category                                                                                                                         0.0\n",
       "Months_on_book                                                                                                                        0.0\n",
       "Total_Relationship_Count                                                                                                              0.0\n",
       "Months_Inactive_12_mon                                                                                                                0.0\n",
       "Contacts_Count_12_mon                                                                                                                 0.0\n",
       "Credit_Limit                                                                                                                          0.0\n",
       "Total_Revolving_Bal                                                                                                                   0.0\n",
       "Avg_Open_To_Buy                                                                                                                       0.0\n",
       "Total_Amt_Chng_Q4_Q1                                                                                                                  0.0\n",
       "Total_Trans_Amt                                                                                                                       0.0\n",
       "Total_Trans_Ct                                                                                                                        0.0\n",
       "Total_Ct_Chng_Q4_Q1                                                                                                                   0.0\n",
       "Avg_Utilization_Ratio                                                                                                                 0.0\n",
       "Naive_Bayes_Classifier_Attrition_Flag_Card_Category_Contacts_Count_12_mon_Dependent_count_Education_Level_Months_Inactive_12_mon_1    0.0\n",
       "Naive_Bayes_Classifier_Attrition_Flag_Card_Category_Contacts_Count_12_mon_Dependent_count_Education_Level_Months_Inactive_12_mon_2    0.0\n",
       "dtype: float64"
      ]
     },
     "execution_count": 6,
     "metadata": {},
     "output_type": "execute_result"
    }
   ],
   "source": [
    "# proportion missing\n",
    "df.isnull().mean()"
   ]
  },
  {
   "cell_type": "code",
   "execution_count": 7,
   "id": "4d6c67db",
   "metadata": {},
   "outputs": [
    {
     "data": {
      "text/plain": [
       "CLIENTNUM                                                                                                                               int64\n",
       "Attrition_Flag                                                                                                                         object\n",
       "Customer_Age                                                                                                                            int64\n",
       "Gender                                                                                                                                 object\n",
       "Dependent_count                                                                                                                         int64\n",
       "Education_Level                                                                                                                        object\n",
       "Marital_Status                                                                                                                         object\n",
       "Income_Category                                                                                                                        object\n",
       "Card_Category                                                                                                                          object\n",
       "Months_on_book                                                                                                                          int64\n",
       "Total_Relationship_Count                                                                                                                int64\n",
       "Months_Inactive_12_mon                                                                                                                  int64\n",
       "Contacts_Count_12_mon                                                                                                                   int64\n",
       "Credit_Limit                                                                                                                          float64\n",
       "Total_Revolving_Bal                                                                                                                     int64\n",
       "Avg_Open_To_Buy                                                                                                                       float64\n",
       "Total_Amt_Chng_Q4_Q1                                                                                                                  float64\n",
       "Total_Trans_Amt                                                                                                                         int64\n",
       "Total_Trans_Ct                                                                                                                          int64\n",
       "Total_Ct_Chng_Q4_Q1                                                                                                                   float64\n",
       "Avg_Utilization_Ratio                                                                                                                 float64\n",
       "Naive_Bayes_Classifier_Attrition_Flag_Card_Category_Contacts_Count_12_mon_Dependent_count_Education_Level_Months_Inactive_12_mon_1    float64\n",
       "Naive_Bayes_Classifier_Attrition_Flag_Card_Category_Contacts_Count_12_mon_Dependent_count_Education_Level_Months_Inactive_12_mon_2    float64\n",
       "dtype: object"
      ]
     },
     "execution_count": 7,
     "metadata": {},
     "output_type": "execute_result"
    }
   ],
   "source": [
    "# dtypes\n",
    "df.dtypes"
   ]
  },
  {
   "cell_type": "code",
   "execution_count": 8,
   "id": "5bf5198d",
   "metadata": {},
   "outputs": [
    {
     "data": {
      "text/plain": [
       "F    0.529081\n",
       "M    0.470919\n",
       "Name: Gender, dtype: float64"
      ]
     },
     "execution_count": 8,
     "metadata": {},
     "output_type": "execute_result"
    }
   ],
   "source": [
    "df[\"Gender\"].value_counts(normalize=True)"
   ]
  },
  {
   "cell_type": "code",
   "execution_count": 9,
   "id": "151a0b26",
   "metadata": {},
   "outputs": [
    {
     "data": {
      "text/html": [
       "<div>\n",
       "<style scoped>\n",
       "    .dataframe tbody tr th:only-of-type {\n",
       "        vertical-align: middle;\n",
       "    }\n",
       "\n",
       "    .dataframe tbody tr th {\n",
       "        vertical-align: top;\n",
       "    }\n",
       "\n",
       "    .dataframe thead th {\n",
       "        text-align: right;\n",
       "    }\n",
       "</style>\n",
       "<table border=\"1\" class=\"dataframe\">\n",
       "  <thead>\n",
       "    <tr style=\"text-align: right;\">\n",
       "      <th></th>\n",
       "      <th>CLIENTNUM</th>\n",
       "      <th>Customer_Age</th>\n",
       "      <th>Dependent_count</th>\n",
       "      <th>Months_on_book</th>\n",
       "      <th>Total_Relationship_Count</th>\n",
       "      <th>Months_Inactive_12_mon</th>\n",
       "      <th>Contacts_Count_12_mon</th>\n",
       "      <th>Credit_Limit</th>\n",
       "      <th>Total_Revolving_Bal</th>\n",
       "      <th>Avg_Open_To_Buy</th>\n",
       "      <th>Total_Amt_Chng_Q4_Q1</th>\n",
       "      <th>Total_Trans_Amt</th>\n",
       "      <th>Total_Trans_Ct</th>\n",
       "      <th>Total_Ct_Chng_Q4_Q1</th>\n",
       "      <th>Avg_Utilization_Ratio</th>\n",
       "      <th>Naive_Bayes_Classifier_Attrition_Flag_Card_Category_Contacts_Count_12_mon_Dependent_count_Education_Level_Months_Inactive_12_mon_1</th>\n",
       "      <th>Naive_Bayes_Classifier_Attrition_Flag_Card_Category_Contacts_Count_12_mon_Dependent_count_Education_Level_Months_Inactive_12_mon_2</th>\n",
       "    </tr>\n",
       "  </thead>\n",
       "  <tbody>\n",
       "    <tr>\n",
       "      <th>count</th>\n",
       "      <td>1.012700e+04</td>\n",
       "      <td>10127.000000</td>\n",
       "      <td>10127.000000</td>\n",
       "      <td>10127.000000</td>\n",
       "      <td>10127.000000</td>\n",
       "      <td>10127.000000</td>\n",
       "      <td>10127.000000</td>\n",
       "      <td>10127.000000</td>\n",
       "      <td>10127.000000</td>\n",
       "      <td>10127.000000</td>\n",
       "      <td>10127.000000</td>\n",
       "      <td>10127.000000</td>\n",
       "      <td>10127.000000</td>\n",
       "      <td>10127.000000</td>\n",
       "      <td>10127.000000</td>\n",
       "      <td>10127.000000</td>\n",
       "      <td>10127.000000</td>\n",
       "    </tr>\n",
       "    <tr>\n",
       "      <th>mean</th>\n",
       "      <td>7.391776e+08</td>\n",
       "      <td>46.325960</td>\n",
       "      <td>2.346203</td>\n",
       "      <td>35.928409</td>\n",
       "      <td>3.812580</td>\n",
       "      <td>2.341167</td>\n",
       "      <td>2.455317</td>\n",
       "      <td>8631.953698</td>\n",
       "      <td>1162.814061</td>\n",
       "      <td>7469.139637</td>\n",
       "      <td>0.759941</td>\n",
       "      <td>4404.086304</td>\n",
       "      <td>64.858695</td>\n",
       "      <td>0.712222</td>\n",
       "      <td>0.274894</td>\n",
       "      <td>0.159997</td>\n",
       "      <td>0.840003</td>\n",
       "    </tr>\n",
       "    <tr>\n",
       "      <th>std</th>\n",
       "      <td>3.690378e+07</td>\n",
       "      <td>8.016814</td>\n",
       "      <td>1.298908</td>\n",
       "      <td>7.986416</td>\n",
       "      <td>1.554408</td>\n",
       "      <td>1.010622</td>\n",
       "      <td>1.106225</td>\n",
       "      <td>9088.776650</td>\n",
       "      <td>814.987335</td>\n",
       "      <td>9090.685324</td>\n",
       "      <td>0.219207</td>\n",
       "      <td>3397.129254</td>\n",
       "      <td>23.472570</td>\n",
       "      <td>0.238086</td>\n",
       "      <td>0.275691</td>\n",
       "      <td>0.365301</td>\n",
       "      <td>0.365301</td>\n",
       "    </tr>\n",
       "    <tr>\n",
       "      <th>min</th>\n",
       "      <td>7.080821e+08</td>\n",
       "      <td>26.000000</td>\n",
       "      <td>0.000000</td>\n",
       "      <td>13.000000</td>\n",
       "      <td>1.000000</td>\n",
       "      <td>0.000000</td>\n",
       "      <td>0.000000</td>\n",
       "      <td>1438.300000</td>\n",
       "      <td>0.000000</td>\n",
       "      <td>3.000000</td>\n",
       "      <td>0.000000</td>\n",
       "      <td>510.000000</td>\n",
       "      <td>10.000000</td>\n",
       "      <td>0.000000</td>\n",
       "      <td>0.000000</td>\n",
       "      <td>0.000008</td>\n",
       "      <td>0.000420</td>\n",
       "    </tr>\n",
       "    <tr>\n",
       "      <th>25%</th>\n",
       "      <td>7.130368e+08</td>\n",
       "      <td>41.000000</td>\n",
       "      <td>1.000000</td>\n",
       "      <td>31.000000</td>\n",
       "      <td>3.000000</td>\n",
       "      <td>2.000000</td>\n",
       "      <td>2.000000</td>\n",
       "      <td>2555.000000</td>\n",
       "      <td>359.000000</td>\n",
       "      <td>1324.500000</td>\n",
       "      <td>0.631000</td>\n",
       "      <td>2155.500000</td>\n",
       "      <td>45.000000</td>\n",
       "      <td>0.582000</td>\n",
       "      <td>0.023000</td>\n",
       "      <td>0.000099</td>\n",
       "      <td>0.999660</td>\n",
       "    </tr>\n",
       "    <tr>\n",
       "      <th>50%</th>\n",
       "      <td>7.179264e+08</td>\n",
       "      <td>46.000000</td>\n",
       "      <td>2.000000</td>\n",
       "      <td>36.000000</td>\n",
       "      <td>4.000000</td>\n",
       "      <td>2.000000</td>\n",
       "      <td>2.000000</td>\n",
       "      <td>4549.000000</td>\n",
       "      <td>1276.000000</td>\n",
       "      <td>3474.000000</td>\n",
       "      <td>0.736000</td>\n",
       "      <td>3899.000000</td>\n",
       "      <td>67.000000</td>\n",
       "      <td>0.702000</td>\n",
       "      <td>0.176000</td>\n",
       "      <td>0.000181</td>\n",
       "      <td>0.999820</td>\n",
       "    </tr>\n",
       "    <tr>\n",
       "      <th>75%</th>\n",
       "      <td>7.731435e+08</td>\n",
       "      <td>52.000000</td>\n",
       "      <td>3.000000</td>\n",
       "      <td>40.000000</td>\n",
       "      <td>5.000000</td>\n",
       "      <td>3.000000</td>\n",
       "      <td>3.000000</td>\n",
       "      <td>11067.500000</td>\n",
       "      <td>1784.000000</td>\n",
       "      <td>9859.000000</td>\n",
       "      <td>0.859000</td>\n",
       "      <td>4741.000000</td>\n",
       "      <td>81.000000</td>\n",
       "      <td>0.818000</td>\n",
       "      <td>0.503000</td>\n",
       "      <td>0.000337</td>\n",
       "      <td>0.999900</td>\n",
       "    </tr>\n",
       "    <tr>\n",
       "      <th>max</th>\n",
       "      <td>8.283431e+08</td>\n",
       "      <td>73.000000</td>\n",
       "      <td>5.000000</td>\n",
       "      <td>56.000000</td>\n",
       "      <td>6.000000</td>\n",
       "      <td>6.000000</td>\n",
       "      <td>6.000000</td>\n",
       "      <td>34516.000000</td>\n",
       "      <td>2517.000000</td>\n",
       "      <td>34516.000000</td>\n",
       "      <td>3.397000</td>\n",
       "      <td>18484.000000</td>\n",
       "      <td>139.000000</td>\n",
       "      <td>3.714000</td>\n",
       "      <td>0.999000</td>\n",
       "      <td>0.999580</td>\n",
       "      <td>0.999990</td>\n",
       "    </tr>\n",
       "  </tbody>\n",
       "</table>\n",
       "</div>"
      ],
      "text/plain": [
       "          CLIENTNUM  Customer_Age  Dependent_count  Months_on_book  \\\n",
       "count  1.012700e+04  10127.000000     10127.000000    10127.000000   \n",
       "mean   7.391776e+08     46.325960         2.346203       35.928409   \n",
       "std    3.690378e+07      8.016814         1.298908        7.986416   \n",
       "min    7.080821e+08     26.000000         0.000000       13.000000   \n",
       "25%    7.130368e+08     41.000000         1.000000       31.000000   \n",
       "50%    7.179264e+08     46.000000         2.000000       36.000000   \n",
       "75%    7.731435e+08     52.000000         3.000000       40.000000   \n",
       "max    8.283431e+08     73.000000         5.000000       56.000000   \n",
       "\n",
       "       Total_Relationship_Count  Months_Inactive_12_mon  \\\n",
       "count              10127.000000            10127.000000   \n",
       "mean                   3.812580                2.341167   \n",
       "std                    1.554408                1.010622   \n",
       "min                    1.000000                0.000000   \n",
       "25%                    3.000000                2.000000   \n",
       "50%                    4.000000                2.000000   \n",
       "75%                    5.000000                3.000000   \n",
       "max                    6.000000                6.000000   \n",
       "\n",
       "       Contacts_Count_12_mon  Credit_Limit  Total_Revolving_Bal  \\\n",
       "count           10127.000000  10127.000000         10127.000000   \n",
       "mean                2.455317   8631.953698          1162.814061   \n",
       "std                 1.106225   9088.776650           814.987335   \n",
       "min                 0.000000   1438.300000             0.000000   \n",
       "25%                 2.000000   2555.000000           359.000000   \n",
       "50%                 2.000000   4549.000000          1276.000000   \n",
       "75%                 3.000000  11067.500000          1784.000000   \n",
       "max                 6.000000  34516.000000          2517.000000   \n",
       "\n",
       "       Avg_Open_To_Buy  Total_Amt_Chng_Q4_Q1  Total_Trans_Amt  Total_Trans_Ct  \\\n",
       "count     10127.000000          10127.000000     10127.000000    10127.000000   \n",
       "mean       7469.139637              0.759941      4404.086304       64.858695   \n",
       "std        9090.685324              0.219207      3397.129254       23.472570   \n",
       "min           3.000000              0.000000       510.000000       10.000000   \n",
       "25%        1324.500000              0.631000      2155.500000       45.000000   \n",
       "50%        3474.000000              0.736000      3899.000000       67.000000   \n",
       "75%        9859.000000              0.859000      4741.000000       81.000000   \n",
       "max       34516.000000              3.397000     18484.000000      139.000000   \n",
       "\n",
       "       Total_Ct_Chng_Q4_Q1  Avg_Utilization_Ratio  \\\n",
       "count         10127.000000           10127.000000   \n",
       "mean              0.712222               0.274894   \n",
       "std               0.238086               0.275691   \n",
       "min               0.000000               0.000000   \n",
       "25%               0.582000               0.023000   \n",
       "50%               0.702000               0.176000   \n",
       "75%               0.818000               0.503000   \n",
       "max               3.714000               0.999000   \n",
       "\n",
       "       Naive_Bayes_Classifier_Attrition_Flag_Card_Category_Contacts_Count_12_mon_Dependent_count_Education_Level_Months_Inactive_12_mon_1  \\\n",
       "count                                       10127.000000                                                                                    \n",
       "mean                                            0.159997                                                                                    \n",
       "std                                             0.365301                                                                                    \n",
       "min                                             0.000008                                                                                    \n",
       "25%                                             0.000099                                                                                    \n",
       "50%                                             0.000181                                                                                    \n",
       "75%                                             0.000337                                                                                    \n",
       "max                                             0.999580                                                                                    \n",
       "\n",
       "       Naive_Bayes_Classifier_Attrition_Flag_Card_Category_Contacts_Count_12_mon_Dependent_count_Education_Level_Months_Inactive_12_mon_2  \n",
       "count                                       10127.000000                                                                                   \n",
       "mean                                            0.840003                                                                                   \n",
       "std                                             0.365301                                                                                   \n",
       "min                                             0.000420                                                                                   \n",
       "25%                                             0.999660                                                                                   \n",
       "50%                                             0.999820                                                                                   \n",
       "75%                                             0.999900                                                                                   \n",
       "max                                             0.999990                                                                                   "
      ]
     },
     "execution_count": 9,
     "metadata": {},
     "output_type": "execute_result"
    }
   ],
   "source": [
    "# summary of numeric fields\n",
    "df.describe()"
   ]
  },
  {
   "cell_type": "code",
   "execution_count": 10,
   "id": "16462f0c",
   "metadata": {},
   "outputs": [
    {
     "data": {
      "text/plain": [
       "7"
      ]
     },
     "execution_count": 10,
     "metadata": {},
     "output_type": "execute_result"
    }
   ],
   "source": [
    "# unique count of Education\n",
    "df[\"Education_Level\"].nunique()"
   ]
  },
  {
   "cell_type": "code",
   "execution_count": 11,
   "id": "a2bee887",
   "metadata": {},
   "outputs": [
    {
     "data": {
      "text/plain": [
       "Graduate         3128\n",
       "High School      2013\n",
       "Unknown          1519\n",
       "Uneducated       1487\n",
       "College          1013\n",
       "Post-Graduate     516\n",
       "Doctorate         451\n",
       "Name: Education_Level, dtype: int64"
      ]
     },
     "execution_count": 11,
     "metadata": {},
     "output_type": "execute_result"
    }
   ],
   "source": [
    "df[\"Education_Level\"].value_counts()"
   ]
  },
  {
   "cell_type": "code",
   "execution_count": 12,
   "id": "1a29bf86",
   "metadata": {},
   "outputs": [
    {
     "data": {
      "text/plain": [
       "6"
      ]
     },
     "execution_count": 12,
     "metadata": {},
     "output_type": "execute_result"
    }
   ],
   "source": [
    "# unique count of Income\n",
    "df[\"Income_Category\"].nunique()"
   ]
  },
  {
   "cell_type": "code",
   "execution_count": 13,
   "id": "7a2f0137",
   "metadata": {},
   "outputs": [
    {
     "data": {
      "text/plain": [
       "Less than $40K    3561\n",
       "$40K - $60K       1790\n",
       "$80K - $120K      1535\n",
       "$60K - $80K       1402\n",
       "Unknown           1112\n",
       "$120K +            727\n",
       "Name: Income_Category, dtype: int64"
      ]
     },
     "execution_count": 13,
     "metadata": {},
     "output_type": "execute_result"
    }
   ],
   "source": [
    "df[\"Income_Category\"].value_counts()"
   ]
  },
  {
   "cell_type": "code",
   "execution_count": 14,
   "id": "8df33e1b",
   "metadata": {},
   "outputs": [
    {
     "data": {
      "text/plain": [
       "4"
      ]
     },
     "execution_count": 14,
     "metadata": {},
     "output_type": "execute_result"
    }
   ],
   "source": [
    "# unique count of Marital_Status\n",
    "df[\"Marital_Status\"].nunique()"
   ]
  },
  {
   "cell_type": "code",
   "execution_count": 15,
   "id": "733d1259",
   "metadata": {},
   "outputs": [
    {
     "data": {
      "text/plain": [
       "Married     4687\n",
       "Single      3943\n",
       "Unknown      749\n",
       "Divorced     748\n",
       "Name: Marital_Status, dtype: int64"
      ]
     },
     "execution_count": 15,
     "metadata": {},
     "output_type": "execute_result"
    }
   ],
   "source": [
    "df[\"Marital_Status\"].value_counts()"
   ]
  },
  {
   "cell_type": "code",
   "execution_count": 16,
   "id": "3c64380e",
   "metadata": {},
   "outputs": [
    {
     "data": {
      "text/plain": [
       "Existing Customer    0.83934\n",
       "Attrited Customer    0.16066\n",
       "Name: Attrition_Flag, dtype: float64"
      ]
     },
     "execution_count": 16,
     "metadata": {},
     "output_type": "execute_result"
    }
   ],
   "source": [
    "df[\"Attrition_Flag\"].value_counts(normalize=True)"
   ]
  },
  {
   "cell_type": "code",
   "execution_count": 17,
   "id": "82260ea2",
   "metadata": {},
   "outputs": [
    {
     "data": {
      "text/plain": [
       "0"
      ]
     },
     "execution_count": 17,
     "metadata": {},
     "output_type": "execute_result"
    }
   ],
   "source": [
    "# duplicates?\n",
    "df.duplicated().sum()"
   ]
  },
  {
   "cell_type": "markdown",
   "id": "a7129657",
   "metadata": {},
   "source": [
    "### Conclusion\n",
    "\n",
    "1) The dataset is very small - 10127 users with 23 attributes.<br/>\n",
    "2) There are no duplicates or missing values in the dataset.<br/>\n",
    "3) Representation of women is at 52%.<br/>\n",
    "4) Age range of the buyers vary from 26 - 73 years with 75% of the users being under 52 years.<br/>\n",
    "5) There are 3561(35%) users in the `Less than $40K` Income category.<br/>\n",
    "6) Mean number of dependents is 2.<br/>\n",
    "7) Mean number of months on book is 39.<br/>\n",
    "8) Mean Credit limit is $8631.<br/>\n",
    "9) Married users make up most of the users at 46%(4687).<br/>\n",
    "10) About 16% of the users have attrited.\n",
    "\n",
    "For the purposes of this project, I will be filtering several unwanted features as I don't think a new Credit\n",
    "card user would have built enough history with the Bank to make those features useful."
   ]
  },
  {
   "cell_type": "code",
   "execution_count": 18,
   "id": "8e13b7cd",
   "metadata": {},
   "outputs": [],
   "source": [
    "cols_to_keep = [\n",
    "    \"CLIENTNUM\",\n",
    "    \"Attrition_Flag\",\n",
    "    \"Customer_Age\",\n",
    "    \"Dependent_count\",\n",
    "    \"Gender\",\n",
    "    \"Education_Level\",\n",
    "    \"Marital_Status\",\n",
    "    \"Income_Category\",\n",
    "    \"Card_Category\",\n",
    "    \"Months_on_book\",\n",
    "    \"Total_Relationship_Count\",\n",
    "    \"Credit_Limit\",\n",
    "    \"Total_Revolving_Bal\"\n",
    "]"
   ]
  },
  {
   "cell_type": "code",
   "execution_count": 19,
   "id": "bc62fdf4",
   "metadata": {},
   "outputs": [],
   "source": [
    "# take a subset of the columns\n",
    "new_df = df[cols_to_keep].copy()"
   ]
  },
  {
   "cell_type": "code",
   "execution_count": 20,
   "id": "36085d8f",
   "metadata": {},
   "outputs": [],
   "source": [
    "def clean_names():\n",
    "    \"\"\"Rename some of the columns in the DataFrame\"\"\"\n",
    "    col_rename = {\n",
    "        \"CLIENTNUM\": \"client_num\",\n",
    "        \"Attrition_Flag\": \"attrition_flag\",\n",
    "        \"Customer_Age\": \"customer_age\",\n",
    "        \"Dependent_count\": \"dependent_count\",\n",
    "        \"Gender\": \"gender\",\n",
    "        \"Education_Level\": \"education_level\",\n",
    "        \"Marital_Status\": \"marital_status\",\n",
    "        \"Income_Category\": \"income_category\",\n",
    "        \"Card_Category\": \"card_category\",\n",
    "        \"Months_on_book\": \"months_on_book\",\n",
    "        \"Total_Relationship_Count\": \"total_relationship_count\",\n",
    "        \"Credit_Limit\": \"credit_limit\",\n",
    "        \"Total_Revolving_Bal\": \"total_revolving_bal\"\n",
    "    }\n",
    "    new_df.rename(columns=col_rename, inplace=True)"
   ]
  },
  {
   "cell_type": "code",
   "execution_count": 21,
   "id": "1dc5f732",
   "metadata": {},
   "outputs": [],
   "source": [
    "clean_names()"
   ]
  },
  {
   "cell_type": "code",
   "execution_count": 22,
   "id": "0d7711ae",
   "metadata": {},
   "outputs": [
    {
     "data": {
      "text/plain": [
       "Index(['client_num', 'attrition_flag', 'customer_age', 'dependent_count',\n",
       "       'gender', 'education_level', 'marital_status', 'income_category',\n",
       "       'card_category', 'months_on_book', 'total_relationship_count',\n",
       "       'credit_limit', 'total_revolving_bal'],\n",
       "      dtype='object')"
      ]
     },
     "execution_count": 22,
     "metadata": {},
     "output_type": "execute_result"
    }
   ],
   "source": [
    "new_df.columns"
   ]
  },
  {
   "cell_type": "markdown",
   "id": "81cbe4f5",
   "metadata": {},
   "source": [
    "### Plot some charts"
   ]
  },
  {
   "cell_type": "code",
   "execution_count": 23,
   "id": "fd4e7d41",
   "metadata": {},
   "outputs": [
    {
     "data": {
      "image/png": "[encoded data removed]",
      "text/plain": [
       "<Figure size 2000x2000 with 6 Axes>"
      ]
     },
     "metadata": {},
     "output_type": "display_data"
    }
   ],
   "source": [
    "fields = ['customer_age', 'dependent_count', 'total_relationship_count', 'credit_limit', 'total_revolving_bal']\n",
    "g = new_df[fields].hist(bins=50, figsize=(20, 20))\n",
    "plt.show()"
   ]
  },
  {
   "cell_type": "markdown",
   "id": "1a195e2b",
   "metadata": {},
   "source": [
    "**Observeration**\n",
    "\n",
    "Fields such as `credit_limit`, `total_revolving_bal` have outliers."
   ]
  },
  {
   "cell_type": "code",
   "execution_count": 24,
   "id": "fd7adcbc",
   "metadata": {},
   "outputs": [
    {
     "data": {
      "text/html": [
       "<div>\n",
       "<style scoped>\n",
       "    .dataframe tbody tr th:only-of-type {\n",
       "        vertical-align: middle;\n",
       "    }\n",
       "\n",
       "    .dataframe tbody tr th {\n",
       "        vertical-align: top;\n",
       "    }\n",
       "\n",
       "    .dataframe thead th {\n",
       "        text-align: right;\n",
       "    }\n",
       "</style>\n",
       "<table border=\"1\" class=\"dataframe\">\n",
       "  <thead>\n",
       "    <tr style=\"text-align: right;\">\n",
       "      <th></th>\n",
       "      <th>customer_age</th>\n",
       "      <th>dependent_count</th>\n",
       "      <th>total_relationship_count</th>\n",
       "      <th>credit_limit</th>\n",
       "      <th>total_revolving_bal</th>\n",
       "    </tr>\n",
       "  </thead>\n",
       "  <tbody>\n",
       "    <tr>\n",
       "      <th>customer_age</th>\n",
       "      <td>1.000000</td>\n",
       "      <td>-0.122254</td>\n",
       "      <td>-0.010931</td>\n",
       "      <td>0.002476</td>\n",
       "      <td>0.014780</td>\n",
       "    </tr>\n",
       "    <tr>\n",
       "      <th>dependent_count</th>\n",
       "      <td>-0.122254</td>\n",
       "      <td>1.000000</td>\n",
       "      <td>-0.039076</td>\n",
       "      <td>0.068065</td>\n",
       "      <td>-0.002688</td>\n",
       "    </tr>\n",
       "    <tr>\n",
       "      <th>total_relationship_count</th>\n",
       "      <td>-0.010931</td>\n",
       "      <td>-0.039076</td>\n",
       "      <td>1.000000</td>\n",
       "      <td>-0.071386</td>\n",
       "      <td>0.013726</td>\n",
       "    </tr>\n",
       "    <tr>\n",
       "      <th>credit_limit</th>\n",
       "      <td>0.002476</td>\n",
       "      <td>0.068065</td>\n",
       "      <td>-0.071386</td>\n",
       "      <td>1.000000</td>\n",
       "      <td>0.042493</td>\n",
       "    </tr>\n",
       "    <tr>\n",
       "      <th>total_revolving_bal</th>\n",
       "      <td>0.014780</td>\n",
       "      <td>-0.002688</td>\n",
       "      <td>0.013726</td>\n",
       "      <td>0.042493</td>\n",
       "      <td>1.000000</td>\n",
       "    </tr>\n",
       "  </tbody>\n",
       "</table>\n",
       "</div>"
      ],
      "text/plain": [
       "                          customer_age  dependent_count  \\\n",
       "customer_age                  1.000000        -0.122254   \n",
       "dependent_count              -0.122254         1.000000   \n",
       "total_relationship_count     -0.010931        -0.039076   \n",
       "credit_limit                  0.002476         0.068065   \n",
       "total_revolving_bal           0.014780        -0.002688   \n",
       "\n",
       "                          total_relationship_count  credit_limit  \\\n",
       "customer_age                             -0.010931      0.002476   \n",
       "dependent_count                          -0.039076      0.068065   \n",
       "total_relationship_count                  1.000000     -0.071386   \n",
       "credit_limit                             -0.071386      1.000000   \n",
       "total_revolving_bal                       0.013726      0.042493   \n",
       "\n",
       "                          total_revolving_bal  \n",
       "customer_age                         0.014780  \n",
       "dependent_count                     -0.002688  \n",
       "total_relationship_count             0.013726  \n",
       "credit_limit                         0.042493  \n",
       "total_revolving_bal                  1.000000  "
      ]
     },
     "execution_count": 24,
     "metadata": {},
     "output_type": "execute_result"
    }
   ],
   "source": [
    "# correlation\n",
    "new_df[fields].corr()"
   ]
  },
  {
   "cell_type": "markdown",
   "id": "28ef5fd1",
   "metadata": {},
   "source": [
    "**Observation**\n",
    "\n",
    "It appears that none of these variables have any correlation with one another"
   ]
  },
  {
   "cell_type": "code",
   "execution_count": 25,
   "id": "d6c346d7",
   "metadata": {},
   "outputs": [
    {
     "name": "stdout",
     "output_type": "stream",
     "text": [
      "Mutual info score for gender is 0.0006971784154832517\n",
      "Mutual info score for education_level is 0.0005872709769945833\n",
      "Mutual info score for marital_status is 0.0002991989693008276\n",
      "Mutual info score for income_category is 0.0006466400381358317\n",
      "Mutual info score for card_category is 0.00010367916242964891\n"
     ]
    }
   ],
   "source": [
    "def calculate_mi(col):\n",
    "    return mutual_info_score(new_df[col], new_df[\"attrition_flag\"])\n",
    "\n",
    "for col in new_df.select_dtypes(include=\"object\").columns[1:]:\n",
    "    print(f\"Mutual info score for {col} is {calculate_mi(col)}\")"
   ]
  },
  {
   "cell_type": "code",
   "execution_count": 26,
   "id": "39896a6a",
   "metadata": {},
   "outputs": [
    {
     "data": {
      "image/png": "[encoded data removed]",
      "text/plain": [
       "<Figure size 640x480 with 1 Axes>"
      ]
     },
     "metadata": {},
     "output_type": "display_data"
    }
   ],
   "source": [
    "pd.crosstab(\n",
    "    new_df[\"education_level\"], \n",
    "    new_df[\"attrition_flag\"]).\\\n",
    "    plot(kind=\"barh\", \n",
    "        title=\"Attrition counts by Education\")\n",
    "plt.show()"
   ]
  },
  {
   "cell_type": "code",
   "execution_count": 27,
   "id": "113c4b4a",
   "metadata": {},
   "outputs": [
    {
     "data": {
      "image/png": "[encoded data removed]",
      "text/plain": [
       "<Figure size 640x480 with 1 Axes>"
      ]
     },
     "metadata": {},
     "output_type": "display_data"
    }
   ],
   "source": [
    "pd.crosstab(\n",
    "    new_df[\"marital_status\"], \n",
    "    new_df[\"attrition_flag\"]).\\\n",
    "    plot(kind=\"barh\", \n",
    "        title=\"Attrition counts by Marriage status\")\n",
    "plt.show()"
   ]
  },
  {
   "cell_type": "code",
   "execution_count": 28,
   "id": "e81475d2",
   "metadata": {},
   "outputs": [
    {
     "data": {
      "image/png": "[encoded data removed]",
      "text/plain": [
       "<Figure size 640x480 with 1 Axes>"
      ]
     },
     "metadata": {},
     "output_type": "display_data"
    }
   ],
   "source": [
    "pd.crosstab(\n",
    "    new_df[\"education_level\"], \n",
    "    new_df[\"marital_status\"]).\\\n",
    "    plot(kind=\"barh\", \n",
    "        title=\"Education level counts by Marital status\")\n",
    "plt.show()"
   ]
  },
  {
   "cell_type": "markdown",
   "id": "0647bb14",
   "metadata": {},
   "source": [
    "### Data preparation"
   ]
  },
  {
   "cell_type": "code",
   "execution_count": 29,
   "id": "f9185832",
   "metadata": {},
   "outputs": [],
   "source": [
    "dv = DictVectorizer(sparse=False)\n",
    "oe = OrdinalEncoder(encoded_missing_value=-1)\n",
    "scaler = StandardScaler()"
   ]
  },
  {
   "cell_type": "code",
   "execution_count": 30,
   "id": "2d44e8b2",
   "metadata": {},
   "outputs": [],
   "source": [
    "def split_dataset(df, \n",
    "                  size1=0.2, \n",
    "                  size2=0.25, \n",
    "                  random_state=42\n",
    "                 ):\n",
    "    train_df, test_x = train_test_split(df, test_size=size1, random_state=random_state)\n",
    "    train_x, val_x = train_test_split(train_df, test_size=size2, random_state=random_state)\n",
    "    return train_x.reset_index(drop=True), val_x.reset_index(drop=True), test_x.reset_index(drop=True)"
   ]
  },
  {
   "cell_type": "code",
   "execution_count": 31,
   "id": "a5691311",
   "metadata": {},
   "outputs": [],
   "source": [
    "def data_prep(\n",
    "    df, \n",
    "    split,\n",
    "    is_ohe=False,\n",
    "    is_train=True,\n",
    "    is_drop=True\n",
    "):\n",
    "    \"\"\"Prepare dataset\"\"\"\n",
    "    df = split_dataset(df)[split]\n",
    "\n",
    "    y = df[\"attrition_flag\"].apply(lambda x: 1 if x == \"Attrited Customer\" else 0)\n",
    "    try:\n",
    "        df = df.drop([\"client_num\", \"attrition_flag\"], axis=1)\n",
    "    except:\n",
    "        pass\n",
    "    if is_drop:\n",
    "        try:\n",
    "            for col in [\"months_on_book\", \"total_relationship_count\", \"total_revolving_bal\"]:\n",
    "                del df[col]\n",
    "        except:\n",
    "            pass\n",
    "    if not is_ohe:\n",
    "        cat_fields = [\"education_level\", \"marital_status\", \"income_category\", \"card_category\"]\n",
    "        if is_train:\n",
    "            df[cat_fields] = oe.fit_transform(df[cat_fields])\n",
    "        else:\n",
    "            df[cat_fields] = oe.transform(df[cat_fields])\n",
    "#     if is_education:\n",
    "#         if is_train:\n",
    "#             oe.fit(df[\"education_level\"].values.reshape(-1, 1))\n",
    "#         df[\"education_level\"] = oe.transform(df[\"education_level\"].values.reshape(-1, 1))\n",
    "#     else:\n",
    "#         del df[\"education_level\"]\n",
    "#     if is_marriage:\n",
    "#         if is_train:\n",
    "#             oe.fit(df[\"marital_status\"].values.reshape(-1, 1))\n",
    "#         df[\"marital_status\"] = oe.transform(df[\"marital_status\"].values.reshape(-1, 1))\n",
    "#     else:\n",
    "#         del df[\"marriage_status\"]\n",
    "#     if is_income:\n",
    "#         if is_train:\n",
    "#             oe.fit(df[\"income_category\"].values.reshape(-1, 1))\n",
    "#         df[\"income_category\"] = oe.transform(df[\"income_category\"].values.reshape(-1, 1))\n",
    "#     else:\n",
    "#         del df[\"income_category\"]\n",
    "#     if is_card:\n",
    "#         if is_train:\n",
    "#             oe.fit(df[\"card_category\"].values.reshape(-1, 1))\n",
    "#         df[\"card_category\"] = oe.transform(df[\"card_category\"].values.reshape(-1, 1))\n",
    "#     else:\n",
    "#         del df[\"card_category\"]\n",
    "    dicts = df.to_dict(orient='records')\n",
    "    if is_train:\n",
    "        dv.fit(dicts)\n",
    "    df = dv.transform(dicts)\n",
    "#     if is_train:\n",
    "#         scaler.fit(df)\n",
    "#     df = scaler.transform(df)\n",
    "    df = pd.DataFrame(df, columns=dv.get_feature_names_out())\n",
    "\n",
    "    return df, y"
   ]
  },
  {
   "cell_type": "code",
   "execution_count": 32,
   "id": "233c5f9f",
   "metadata": {},
   "outputs": [],
   "source": [
    "# train_x, val_x, test_x = split_dataset(new_df)"
   ]
  },
  {
   "cell_type": "code",
   "execution_count": 33,
   "id": "2e35fc0d",
   "metadata": {},
   "outputs": [],
   "source": [
    "# train_x.shape, val_x.shape, test_x.shape"
   ]
  },
  {
   "cell_type": "code",
   "execution_count": 34,
   "id": "86dd7ff7",
   "metadata": {},
   "outputs": [],
   "source": [
    "train_x, train_y = data_prep(\n",
    "    new_df, \n",
    "    0,\n",
    "    is_drop=False,\n",
    "    is_ohe=False\n",
    ")\n",
    "val_x, val_y = data_prep(\n",
    "    new_df, \n",
    "    1,  \n",
    "    is_train=False,\n",
    "    is_drop=False,\n",
    "    is_ohe=False\n",
    ")\n",
    "test_x, test_y = data_prep(\n",
    "    new_df, \n",
    "    2,  \n",
    "    is_train=False,\n",
    "    is_drop=False,\n",
    "    is_ohe=False\n",
    "    \n",
    ")"
   ]
  },
  {
   "cell_type": "code",
   "execution_count": 35,
   "id": "d5023730",
   "metadata": {},
   "outputs": [
    {
     "data": {
      "text/plain": [
       "((6075, 12), (2026, 12), (2026, 12))"
      ]
     },
     "execution_count": 35,
     "metadata": {},
     "output_type": "execute_result"
    }
   ],
   "source": [
    "train_x.shape, val_x.shape, test_x.shape"
   ]
  },
  {
   "cell_type": "code",
   "execution_count": 36,
   "id": "82316817",
   "metadata": {},
   "outputs": [
    {
     "data": {
      "text/html": [
       "<div>\n",
       "<style scoped>\n",
       "    .dataframe tbody tr th:only-of-type {\n",
       "        vertical-align: middle;\n",
       "    }\n",
       "\n",
       "    .dataframe tbody tr th {\n",
       "        vertical-align: top;\n",
       "    }\n",
       "\n",
       "    .dataframe thead th {\n",
       "        text-align: right;\n",
       "    }\n",
       "</style>\n",
       "<table border=\"1\" class=\"dataframe\">\n",
       "  <thead>\n",
       "    <tr style=\"text-align: right;\">\n",
       "      <th></th>\n",
       "      <th>card_category</th>\n",
       "      <th>credit_limit</th>\n",
       "      <th>customer_age</th>\n",
       "      <th>dependent_count</th>\n",
       "      <th>education_level</th>\n",
       "      <th>gender=F</th>\n",
       "      <th>gender=M</th>\n",
       "      <th>income_category</th>\n",
       "      <th>marital_status</th>\n",
       "      <th>months_on_book</th>\n",
       "      <th>total_relationship_count</th>\n",
       "      <th>total_revolving_bal</th>\n",
       "    </tr>\n",
       "  </thead>\n",
       "  <tbody>\n",
       "    <tr>\n",
       "      <th>0</th>\n",
       "      <td>0.0</td>\n",
       "      <td>1438.3</td>\n",
       "      <td>42.0</td>\n",
       "      <td>5.0</td>\n",
       "      <td>5.0</td>\n",
       "      <td>1.0</td>\n",
       "      <td>0.0</td>\n",
       "      <td>4.0</td>\n",
       "      <td>2.0</td>\n",
       "      <td>36.0</td>\n",
       "      <td>6.0</td>\n",
       "      <td>0.0</td>\n",
       "    </tr>\n",
       "    <tr>\n",
       "      <th>1</th>\n",
       "      <td>0.0</td>\n",
       "      <td>2629.0</td>\n",
       "      <td>55.0</td>\n",
       "      <td>2.0</td>\n",
       "      <td>6.0</td>\n",
       "      <td>1.0</td>\n",
       "      <td>0.0</td>\n",
       "      <td>4.0</td>\n",
       "      <td>1.0</td>\n",
       "      <td>36.0</td>\n",
       "      <td>5.0</td>\n",
       "      <td>1476.0</td>\n",
       "    </tr>\n",
       "    <tr>\n",
       "      <th>2</th>\n",
       "      <td>0.0</td>\n",
       "      <td>3136.0</td>\n",
       "      <td>52.0</td>\n",
       "      <td>3.0</td>\n",
       "      <td>3.0</td>\n",
       "      <td>1.0</td>\n",
       "      <td>0.0</td>\n",
       "      <td>4.0</td>\n",
       "      <td>1.0</td>\n",
       "      <td>48.0</td>\n",
       "      <td>4.0</td>\n",
       "      <td>1103.0</td>\n",
       "    </tr>\n",
       "    <tr>\n",
       "      <th>3</th>\n",
       "      <td>0.0</td>\n",
       "      <td>7088.0</td>\n",
       "      <td>51.0</td>\n",
       "      <td>3.0</td>\n",
       "      <td>2.0</td>\n",
       "      <td>0.0</td>\n",
       "      <td>1.0</td>\n",
       "      <td>3.0</td>\n",
       "      <td>1.0</td>\n",
       "      <td>39.0</td>\n",
       "      <td>1.0</td>\n",
       "      <td>1750.0</td>\n",
       "    </tr>\n",
       "    <tr>\n",
       "      <th>4</th>\n",
       "      <td>0.0</td>\n",
       "      <td>5570.0</td>\n",
       "      <td>47.0</td>\n",
       "      <td>4.0</td>\n",
       "      <td>0.0</td>\n",
       "      <td>0.0</td>\n",
       "      <td>1.0</td>\n",
       "      <td>1.0</td>\n",
       "      <td>0.0</td>\n",
       "      <td>36.0</td>\n",
       "      <td>5.0</td>\n",
       "      <td>1858.0</td>\n",
       "    </tr>\n",
       "  </tbody>\n",
       "</table>\n",
       "</div>"
      ],
      "text/plain": [
       "   card_category  credit_limit  customer_age  dependent_count  \\\n",
       "0            0.0        1438.3          42.0              5.0   \n",
       "1            0.0        2629.0          55.0              2.0   \n",
       "2            0.0        3136.0          52.0              3.0   \n",
       "3            0.0        7088.0          51.0              3.0   \n",
       "4            0.0        5570.0          47.0              4.0   \n",
       "\n",
       "   education_level  gender=F  gender=M  income_category  marital_status  \\\n",
       "0              5.0       1.0       0.0              4.0             2.0   \n",
       "1              6.0       1.0       0.0              4.0             1.0   \n",
       "2              3.0       1.0       0.0              4.0             1.0   \n",
       "3              2.0       0.0       1.0              3.0             1.0   \n",
       "4              0.0       0.0       1.0              1.0             0.0   \n",
       "\n",
       "   months_on_book  total_relationship_count  total_revolving_bal  \n",
       "0            36.0                       6.0                  0.0  \n",
       "1            36.0                       5.0               1476.0  \n",
       "2            48.0                       4.0               1103.0  \n",
       "3            39.0                       1.0               1750.0  \n",
       "4            36.0                       5.0               1858.0  "
      ]
     },
     "execution_count": 36,
     "metadata": {},
     "output_type": "execute_result"
    }
   ],
   "source": [
    "train_x.head()"
   ]
  },
  {
   "cell_type": "code",
   "execution_count": 37,
   "id": "68e1aed5",
   "metadata": {},
   "outputs": [],
   "source": [
    "def roc_auc_scorer(y_true, y_pred):\n",
    "    \"\"\"\n",
    "    Make scorer to compute roc auc score\n",
    "    \"\"\"\n",
    "    return roc_auc_score(y_true, y_pred)"
   ]
  },
  {
   "cell_type": "code",
   "execution_count": 38,
   "id": "39643033",
   "metadata": {},
   "outputs": [],
   "source": [
    "def build_model(model, train_X, train_y, valid_X, valid_y, \n",
    "                hyperparameters={}, \n",
    "                scoring=None, cv=3, model_str=None, cat_features=[], verbose=False):\n",
    "    \"\"\"\n",
    "    Build model\n",
    "    \"\"\"\n",
    "    np.random.seed(42)\n",
    "    best_rmse = 0\n",
    "    start_time = time.time()\n",
    "    \n",
    "    gs = GridSearchCV(model, param_grid=hyperparameters, cv=cv, scoring=scoring)\n",
    "    gs.fit(train_X, train_y)\n",
    "    if model_str == 'xgboost':\n",
    "        gs.best_estimator_.fit(train_X, train_y, verbose=verbose)\n",
    "#     elif model_str == \"rf\":\n",
    "#         gs.best_estimator_.fit(train_X, train_y)\n",
    "    else:\n",
    "        gs.best_estimator_.fit(train_X, train_y)\n",
    "    preds = gs.best_estimator_.predict(valid_X)\n",
    "    best_roc_auc = roc_auc_score(valid_y, preds)\n",
    "    end_time = time.time() - start_time\n",
    "    return gs.best_estimator_, best_roc_auc, np.round(end_time, 2)"
   ]
  },
  {
   "cell_type": "code",
   "execution_count": 39,
   "id": "7f62958f",
   "metadata": {},
   "outputs": [],
   "source": [
    "lr = LogisticRegression(solver=\"liblinear\", class_weight='balanced', random_state=42)\n",
    "best_lr_model, best_lr_roc_auc, best_lr_time = build_model(lr, train_x, train_y, \n",
    "                                                        val_x, val_y,\n",
    "                                                        hyperparameters={\"C\": [.01, .1, 1]}, \n",
    "                scoring=make_scorer(roc_auc_scorer, needs_threshold=True), cv=5, model_str=\"lr\")"
   ]
  },
  {
   "cell_type": "code",
   "execution_count": 40,
   "id": "f9a7bd1f",
   "metadata": {},
   "outputs": [],
   "source": [
    "rf = RandomForestClassifier(class_weight='balanced', random_state=42)\n",
    "best_rf_model, best_rf_roc_auc, best_rf_time = build_model(rf, train_x, train_y, \n",
    "                                                        val_x, val_y,\n",
    "                                                        hyperparameters={'n_estimators': [3, 5, 7]}, \n",
    "                scoring=make_scorer(roc_auc_scorer, needs_threshold=True), cv=5, model_str=\"rf\")"
   ]
  },
  {
   "cell_type": "code",
   "execution_count": 41,
   "id": "a811bb12",
   "metadata": {},
   "outputs": [],
   "source": [
    "xgb = XGBClassifier(learning_rate=.1, objective='reg:logistic', random_state=42)\n",
    "best_xgb_model, best_xgb_roc_auc, best_xgb_time = build_model(xgb, train_x, train_y, \n",
    "                                                        val_x, val_y,\n",
    "                                                        hyperparameters={'n_estimators': [3, 5, 7]}, \n",
    "                scoring=make_scorer(roc_auc_scorer, needs_threshold=True), cv=5, model_str=\"xgboost\"\n",
    "                                                          )"
   ]
  },
  {
   "cell_type": "code",
   "execution_count": 42,
   "id": "dc073456",
   "metadata": {},
   "outputs": [],
   "source": [
    "model_results_df = pd.DataFrame({'model': ['LogisticRegression', 'RandomForestClassifier', 'XGBClassifier'],\n",
    "              'best_roc_auc_score': [best_lr_roc_auc, best_rf_roc_auc, best_xgb_roc_auc],\n",
    "              'train_time': [best_lr_time, best_rf_time, best_xgb_time]})"
   ]
  },
  {
   "cell_type": "code",
   "execution_count": 43,
   "id": "2a806e9e",
   "metadata": {},
   "outputs": [
    {
     "data": {
      "text/html": [
       "<div>\n",
       "<style scoped>\n",
       "    .dataframe tbody tr th:only-of-type {\n",
       "        vertical-align: middle;\n",
       "    }\n",
       "\n",
       "    .dataframe tbody tr th {\n",
       "        vertical-align: top;\n",
       "    }\n",
       "\n",
       "    .dataframe thead th {\n",
       "        text-align: right;\n",
       "    }\n",
       "</style>\n",
       "<table border=\"1\" class=\"dataframe\">\n",
       "  <thead>\n",
       "    <tr style=\"text-align: right;\">\n",
       "      <th></th>\n",
       "      <th>model</th>\n",
       "      <th>best_roc_auc_score</th>\n",
       "      <th>train_time</th>\n",
       "    </tr>\n",
       "  </thead>\n",
       "  <tbody>\n",
       "    <tr>\n",
       "      <th>0</th>\n",
       "      <td>LogisticRegression</td>\n",
       "      <td>0.692882</td>\n",
       "      <td>0.35</td>\n",
       "    </tr>\n",
       "    <tr>\n",
       "      <th>1</th>\n",
       "      <td>RandomForestClassifier</td>\n",
       "      <td>0.573398</td>\n",
       "      <td>0.47</td>\n",
       "    </tr>\n",
       "    <tr>\n",
       "      <th>2</th>\n",
       "      <td>XGBClassifier</td>\n",
       "      <td>0.607632</td>\n",
       "      <td>0.50</td>\n",
       "    </tr>\n",
       "  </tbody>\n",
       "</table>\n",
       "</div>"
      ],
      "text/plain": [
       "                    model  best_roc_auc_score  train_time\n",
       "0      LogisticRegression            0.692882        0.35\n",
       "1  RandomForestClassifier            0.573398        0.47\n",
       "2           XGBClassifier            0.607632        0.50"
      ]
     },
     "execution_count": 43,
     "metadata": {},
     "output_type": "execute_result"
    }
   ],
   "source": [
    "model_results_df"
   ]
  },
  {
   "cell_type": "markdown",
   "id": "e325ee2b",
   "metadata": {},
   "source": [
    "### Model analysis"
   ]
  },
  {
   "cell_type": "code",
   "execution_count": 44,
   "id": "4acee1da",
   "metadata": {},
   "outputs": [],
   "source": [
    "def test_prediction(model, test_X, test_y):\n",
    "    \"\"\"\n",
    "    Predict RMSE on the test set\n",
    "    \"\"\"\n",
    "    start_time = time.time()\n",
    "    preds = model.predict(test_X)\n",
    "    return np.round(time.time(), 2) - np.round(start_time, 2), roc_auc_score(test_y, preds)"
   ]
  },
  {
   "cell_type": "code",
   "execution_count": 45,
   "id": "27af144a",
   "metadata": {},
   "outputs": [
    {
     "name": "stdout",
     "output_type": "stream",
     "text": [
      "The ROC AUC score on the test set is 0.6612371371538934 using LogReg, and time to predict 0.0 seconds\n",
      "The ROC AUC score on the test set is 0.5907837493902691 using RandomForest, and time to predict 0.009999990463256836 seconds\n",
      "The ROC AUC score on the test set is 0.615779564521674 using XGB, and time to predict 0.0 seconds\n"
     ]
    }
   ],
   "source": [
    "models = [best_lr_model, best_rf_model, best_xgb_model]\n",
    "model_names = [\"LogReg\", \"RandomForest\", \"XGB\"]\n",
    "for model, name in zip(models, model_names):\n",
    "    pred_time, best_roc_auc = test_prediction(model, test_x, test_y)\n",
    "    print(f'The ROC AUC score on the test set is {best_roc_auc} using {name}, and time to predict {pred_time} seconds')"
   ]
  },
  {
   "cell_type": "markdown",
   "id": "9c894c24",
   "metadata": {},
   "source": [
    "### Conclusion"
   ]
  },
  {
   "cell_type": "markdown",
   "id": "1df1844d",
   "metadata": {},
   "source": [
    "Nothing beats the simplicity of Logistic Regression for this small dataset. While One Hot Encoding (OHE) improves the AUC score on the validation dataset; it overfits on the test set. Not scaling the dataset andactually improved the ROC AUC score by ~1%."
   ]
  },
  {
   "cell_type": "code",
   "execution_count": null,
   "id": "b6081a4c",
   "metadata": {},
   "outputs": [],
   "source": []
  }
 ],
 "metadata": {
  "kernelspec": {
   "display_name": "midterm-d6o0NesI",
   "language": "python",
   "name": "midterm-d6o0nesi"
  },
  "language_info": {
   "codemirror_mode": {
    "name": "ipython",
    "version": 3
   },
   "file_extension": ".py",
   "mimetype": "text/x-python",
   "name": "python",
   "nbconvert_exporter": "python",
   "pygments_lexer": "ipython3",
   "version": "3.8.3"
  }
 },
 "nbformat": 4,
 "nbformat_minor": 5
}
